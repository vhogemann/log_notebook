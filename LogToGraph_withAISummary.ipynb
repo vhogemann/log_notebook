{
 "cells": [
  {
   "cell_type": "markdown",
   "metadata": {
    "id": "nqd0mTEDRoTK"
   },
   "source": [
    "Enter the `correlation_id` you're interested in, and also the HUMIO Repo between `sb-demo`for DEMO and `sb-production` for PROD."
   ]
  },
  {
   "cell_type": "code",
   "execution_count": null,
   "metadata": {
    "cellView": "form",
    "executionInfo": {
     "elapsed": 2,
     "status": "ok",
     "timestamp": 1746451442047,
     "user": {
      "displayName": "Victor Hogemann",
      "userId": "18201533900187719089"
     },
     "user_tz": -60
    },
    "id": "sg3qRyK6OU9f"
   },
   "outputs": [],
   "source": [
    "correlation_id = \"3a966c3835d8de79e81aec6d33bf52ae\" # @param {\"type\":\"string\"}\n",
    "repo = \"sb-demo\" # @param [\"sb-demo\",\"sb-production\"]\n",
    "start = \"7d\" # @param [\"3h\",\"12h\",\"1d\",\"7d\",\"30d\"]"
   ]
  },
  {
   "cell_type": "markdown",
   "metadata": {
    "id": "ERqtmM_sP2Dk"
   },
   "source": [
    "# Graph generation"
   ]
  },
  {
   "cell_type": "code",
   "execution_count": null,
   "metadata": {
    "colab": {
     "base_uri": "https://localhost:8080/"
    },
    "executionInfo": {
     "elapsed": 18854,
     "status": "ok",
     "timestamp": 1746451462972,
     "user": {
      "displayName": "Victor Hogemann",
      "userId": "18201533900187719089"
     },
     "user_tz": -60
    },
    "id": "wv9b64RneVIa",
    "outputId": "51dbbfed-509e-4d9a-df75-d831bb3a2577"
   },
   "outputs": [],
   "source": [
    "from log_to_graph.humio import query_logs\n",
    "from dotenv import load_dotenv\n",
    "import os\n",
    "\n",
    "load_dotenv()\n",
    "user_token = str(os.getenv(\"HUMIO_TOKEN\"))\n",
    "\n",
    "event_map = query_logs(\n",
    "    user_token,\n",
    "    repo,\n",
    "    start,\n",
    "    correlation_id\n",
    ")\n",
    "correlation_id_list = list(event_map.keys())"
   ]
  },
  {
   "cell_type": "code",
   "execution_count": null,
   "metadata": {},
   "outputs": [],
   "source": [
    "%load_ext autoreload\n",
    "%autoreload 2\n",
    "\n",
    "from log_to_graph.flowchart import node_factory, FlowChart, LIGHT_THEME, UNICORN_THEME, HOTDOG_THEME, VAPORWAVE_THEME, GAMEBOY_THEME, OCEANIC_THEME, MATRIX_THEME, AUTUMN_LEAVES_THEME, CYBERPUNK_THEME, RAINBOW_THEME, SOLARIZED_THEME\n",
    "\n",
    "for correlation_id in correlation_id_list:\n",
    "    FlowChart(\n",
    "        correlation_id, \n",
    "        list(map(lambda x: node_factory(x), event_map[correlation_id])),\n",
    "        theme=LIGHT_THEME,\n",
    "    ).to_graphviz().unflatten().render(f'./output/{correlation_id}')"
   ]
  },
  {
   "cell_type": "markdown",
   "metadata": {
    "id": "sTmfJBuXQJ4j"
   },
   "source": [
    "# Result"
   ]
  },
  {
   "cell_type": "code",
   "execution_count": null,
   "metadata": {
    "executionInfo": {
     "elapsed": 0,
     "status": "ok",
     "timestamp": 1746451361450,
     "user": {
      "displayName": "Victor Hogemann",
      "userId": "18201533900187719089"
     },
     "user_tz": -60
    },
    "id": "VsHCBOfOwbtE"
   },
   "outputs": [],
   "source": [
    "from IPython.display import SVG\n",
    "\n",
    "for correlation_id in correlation_id_list:\n",
    "  display(SVG(f'./output/{correlation_id}.svg'))"
   ]
  },
  {
   "cell_type": "markdown",
   "metadata": {},
   "source": [
    "# Summary generation"
   ]
  },
  {
   "cell_type": "code",
   "execution_count": null,
   "metadata": {},
   "outputs": [],
   "source": [
    "import json\n",
    "from log_to_graph.flowchart.node import Node\n",
    "\n",
    "# Get all events from all correlation IDs\n",
    "all_events = []\n",
    "for correlation_id in correlation_id_list:\n",
    "    all_events.extend(event_map[correlation_id])\n",
    "\n",
    "nodes = sorted(list(map(lambda x: Node(x).__dict__, all_events)), key=lambda x: x[\"timestamp\"])\n",
    "\n",
    "json_log = json.dumps(nodes, indent=2)\n",
    "\n",
    "prompt = f\"\"\"\n",
    "You are an expert system for analyzing Java application logs. \n",
    "You will receive an array of JSON log objects, chronologically ordered and potentially grouped by 'correlation_id' for related requests. \n",
    "Your task is to process these logs and generate a concise, human-readable summary of the events, focusing on identifying key actions, potential issues, and the overall flow of operations.\n",
    "\n",
    "For each log entry, consider the 'relative_time', 'timestamp', 'level', 'className', and 'message' to understand what happened and where. \n",
    "Prefer 'relative_time' over 'timestamp' for readability when describing the sequence of events.\n",
    "Pay special attention to 'level' (e.g., ERROR, WARN) and the content of 'message', including any stack traces.\n",
    "If a stack trace is present, summarize the error and its context, and include the relevant snippet.\n",
    "\n",
    "Your output should be structured breakdown of events, highlighting the sequence of actions.\n",
    "If any errors are present, you must include as snapshot of the relevant stack trace.\n",
    "If a stacktrace is present, include a brief summary of the error and its context.\n",
    "Highlight any errors, warnings, or unusual behavior. \n",
    "If you identify a clear sequence of events related to a specific 'correlation_id', group them logically in your explanation.\n",
    "\n",
    "DO NOT ask for any additional information or context.\n",
    "\n",
    "Here are the JSON log objects:\n",
    "\n",
    "```json\n",
    "{json_log}\n",
    "```\n",
    "\"\"\"\n",
    "\n",
    "print(prompt)\n"
   ]
  },
  {
   "cell_type": "code",
   "execution_count": null,
   "metadata": {},
   "outputs": [],
   "source": [
    "!{sys.executable} -m pip install ollama --quiet\n",
    "from ollama import generate, GenerateResponse\n",
    "# codegemma:7b-instruct qwen3:14b \n",
    "# response : GenerateResponse = generate(model='qwen3:14b', prompt=prompt)"
   ]
  },
  {
   "cell_type": "markdown",
   "metadata": {},
   "source": [
    "# Summary"
   ]
  },
  {
   "cell_type": "code",
   "execution_count": null,
   "metadata": {},
   "outputs": [],
   "source": [
    "from IPython.display import Markdown\n",
    "\n",
    "# Markdown(response.response)"
   ]
  }
 ],
 "metadata": {
  "colab": {
   "authorship_tag": "ABX9TyN+YI9Y/UjLPBJpo8al97dC",
   "mount_file_id": "1-QYOeTdDAmKWzQ_gQ7-XDXTRaRhzCse5",
   "provenance": []
  },
  "kernelspec": {
   "display_name": ".venv",
   "language": "python",
   "name": "python3"
  },
  "language_info": {
   "codemirror_mode": {
    "name": "ipython",
    "version": 3
   },
   "file_extension": ".py",
   "mimetype": "text/x-python",
   "name": "python",
   "nbconvert_exporter": "python",
   "pygments_lexer": "ipython3",
   "version": "3.9.6"
  }
 },
 "nbformat": 4,
 "nbformat_minor": 0
}
