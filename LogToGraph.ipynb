{
 "cells": [
  {
   "cell_type": "markdown",
   "metadata": {
    "id": "nqd0mTEDRoTK"
   },
   "source": [
    "Enter the `correlation_id` you're interested in, and also the HUMIO Repo between `sb-demo`for DEMO and `sb-production` for PROD."
   ]
  },
  {
   "cell_type": "code",
   "execution_count": 1,
   "metadata": {
    "cellView": "form",
    "executionInfo": {
     "elapsed": 2,
     "status": "ok",
     "timestamp": 1746451442047,
     "user": {
      "displayName": "Victor Hogemann",
      "userId": "18201533900187719089"
     },
     "user_tz": -60
    },
    "id": "sg3qRyK6OU9f"
   },
   "outputs": [],
   "source": [
    "correlation_id = \"33f9301e43744d56f34cebc74690fc4d\" # @param {\"type\":\"string\"}\n",
    "repo = \"sb-demo\" # @param [\"sb-demo\",\"sb-production\"]\n",
    "start = \"2d\" # @param [\"3h\",\"12h\",\"1d\",\"7d\",\"30d\"]"
   ]
  },
  {
   "cell_type": "markdown",
   "metadata": {
    "id": "ERqtmM_sP2Dk"
   },
   "source": [
    "# Graph generation"
   ]
  },
  {
   "cell_type": "code",
   "execution_count": 2,
   "metadata": {
    "colab": {
     "base_uri": "https://localhost:8080/"
    },
    "executionInfo": {
     "elapsed": 18854,
     "status": "ok",
     "timestamp": 1746451462972,
     "user": {
      "displayName": "Victor Hogemann",
      "userId": "18201533900187719089"
     },
     "user_tz": -60
    },
    "id": "wv9b64RneVIa",
    "outputId": "51dbbfed-509e-4d9a-df75-d831bb3a2577"
   },
   "outputs": [],
   "source": [
    "from log_to_graph.humio import query_logs\n",
    "from dotenv import load_dotenv\n",
    "import os\n",
    "\n",
    "load_dotenv()\n",
    "user_token = str(os.getenv(\"HUMIO_TOKEN\"))\n",
    "\n",
    "event_map = query_logs(\n",
    "    user_token,\n",
    "    repo,\n",
    "    start,\n",
    "    correlation_id\n",
    ")\n",
    "correlation_id_list = list(event_map.keys())"
   ]
  },
  {
   "cell_type": "code",
   "execution_count": 3,
   "metadata": {},
   "outputs": [],
   "source": [
    "%load_ext autoreload\n",
    "%autoreload 2\n",
    "\n",
    "from log_to_graph.flowchart import node_factory, FlowChart, LIGHT_THEME, UNICORN_THEME, HOTDOG_THEME, VAPORWAVE_THEME, GAMEBOY_THEME, OCEANIC_THEME, MATRIX_THEME, AUTUMN_LEAVES_THEME, CYBERPUNK_THEME, RAINBOW_THEME, SOLARIZED_THEME\n",
    "\n",
    "for correlation_id in correlation_id_list:\n",
    "    FlowChart(\n",
    "        correlation_id, \n",
    "        list(map(lambda x: node_factory(x), event_map[correlation_id])),\n",
    "        theme=LIGHT_THEME,\n",
    "    ).to_graphviz().unflatten().render(f'./output/{correlation_id}')"
   ]
  },
  {
   "cell_type": "markdown",
   "metadata": {
    "id": "sTmfJBuXQJ4j"
   },
   "source": [
    "# Result"
   ]
  },
  {
   "cell_type": "code",
   "execution_count": 4,
   "metadata": {
    "executionInfo": {
     "elapsed": 0,
     "status": "ok",
     "timestamp": 1746451361450,
     "user": {
      "displayName": "Victor Hogemann",
      "userId": "18201533900187719089"
     },
     "user_tz": -60
    },
    "id": "VsHCBOfOwbtE"
   },
   "outputs": [
    {
     "data": {
      "image/svg+xml": [
       "<svg xmlns=\"http://www.w3.org/2000/svg\" xmlns:xlink=\"http://www.w3.org/1999/xlink\" width=\"1502pt\" height=\"687pt\" viewBox=\"0.00 0.00 1502.00 686.90\">\n",
       "<g id=\"graph0\" class=\"graph\" transform=\"scale(1 1) rotate(0) translate(4 682.9)\">\n",
       "<title>%3</title>\n",
       "<polygon fill=\"#ffffff\" stroke=\"transparent\" points=\"-4,4 -4,-682.9 1498,-682.9 1498,4 -4,4\"/>\n",
       "<text text-anchor=\"middle\" x=\"747\" y=\"-663.7\" font-family=\"Arial\" font-size=\"14.00\" fill=\"#222222\">Correlation ID: 33f9301e43744d56f34cebc74690fc4d</text>\n",
       "<g id=\"clust1\" class=\"cluster\">\n",
       "<title>cluster_paymentsprocessing</title>\n",
       "<polygon fill=\"#ffe1f9\" stroke=\"#6d1b5e\" points=\"8,-8 8,-592 1238,-592 1238,-8 8,-8\"/>\n",
       "<text text-anchor=\"middle\" x=\"623\" y=\"-576.8\" font-family=\"Arial\" font-size=\"14.00\" fill=\"#6d1b5e\">paymentsprocessing</text>\n",
       "</g>\n",
       "<g id=\"clust2\" class=\"cluster\">\n",
       "<title>cluster_cardprocessor</title>\n",
       "<polygon fill=\"#bafff7\" stroke=\"#006d6d\" points=\"16,-16 16,-561 1230,-561 1230,-16 16,-16\"/>\n",
       "<text text-anchor=\"middle\" x=\"623\" y=\"-545.8\" font-family=\"Arial\" font-size=\"14.00\" fill=\"#006d6d\">cardprocessor</text>\n",
       "</g>\n",
       "<!-- cardprocessor_WorkflowManager -->\n",
       "<g id=\"node1\" class=\"node\">\n",
       "<title>cardprocessor_WorkflowManager</title>\n",
       "<path fill=\"#e0e0e0\" stroke=\"#006400\" d=\"M693,-530C693,-530 603,-530 603,-530 597,-530 591,-524 591,-518 591,-518 591,-506 591,-506 591,-500 597,-494 603,-494 603,-494 693,-494 693,-494 699,-494 705,-500 705,-506 705,-506 705,-518 705,-518 705,-524 699,-530 693,-530\"/>\n",
       "<text text-anchor=\"start\" x=\"601\" y=\"-517.6\" font-family=\"Arial\" font-size=\"8.00\" fill=\"#222222\">com.starlingbank.workflow</text>\n",
       "<text text-anchor=\"start\" x=\"608.5\" y=\"-503\" font-family=\"Arial\" font-size=\"10.00\" fill=\"#222222\">WorkflowManager</text>\n",
       "</g>\n",
       "<!-- cardprocessor_AuthorisationMatcher -->\n",
       "<g id=\"node2\" class=\"node\">\n",
       "<title>cardprocessor_AuthorisationMatcher</title>\n",
       "<path fill=\"#e0e0e0\" stroke=\"#006400\" d=\"M503,-411.5C503,-411.5 323,-411.5 323,-411.5 317,-411.5 311,-405.5 311,-399.5 311,-399.5 311,-387.5 311,-387.5 311,-381.5 317,-375.5 323,-375.5 323,-375.5 503,-375.5 503,-375.5 509,-375.5 515,-381.5 515,-387.5 515,-387.5 515,-399.5 515,-399.5 515,-405.5 509,-411.5 503,-411.5\"/>\n",
       "<text text-anchor=\"start\" x=\"321\" y=\"-399.1\" font-family=\"Arial\" font-size=\"8.00\" fill=\"#222222\">com.starlingbank.cardprocessor.presentment.match</text>\n",
       "<text text-anchor=\"start\" x=\"366.5\" y=\"-384.5\" font-family=\"Arial\" font-size=\"10.00\" fill=\"#222222\">AuthorisationMatcher</text>\n",
       "</g>\n",
       "<!-- cardprocessor_WorkflowManager&#45;&gt;cardprocessor_AuthorisationMatcher -->\n",
       "<g id=\"edge3\" class=\"edge\">\n",
       "<title>cardprocessor_WorkflowManager-&gt;cardprocessor_AuthorisationMatcher</title>\n",
       "<path fill=\"none\" stroke=\"#444444\" d=\"M619.5,-493.82C619.5,-459.16 619.5,-387 619.5,-387 619.5,-387 525.04,-387 525.04,-387\"/>\n",
       "<polygon fill=\"#444444\" stroke=\"#444444\" points=\"525.04,-383.5 515.04,-387 525.04,-390.5 525.04,-383.5\"/>\n",
       "</g>\n",
       "<!-- cardprocessor_Worker -->\n",
       "<g id=\"node7\" class=\"node\">\n",
       "<title>cardprocessor_Worker</title>\n",
       "<path fill=\"#e0e0e0\" stroke=\"#b00020\" d=\"M933.5,-411.5C933.5,-411.5 834.5,-411.5 834.5,-411.5 828.5,-411.5 822.5,-405.5 822.5,-399.5 822.5,-399.5 822.5,-387.5 822.5,-387.5 822.5,-381.5 828.5,-375.5 834.5,-375.5 834.5,-375.5 933.5,-375.5 933.5,-375.5 939.5,-375.5 945.5,-381.5 945.5,-387.5 945.5,-387.5 945.5,-399.5 945.5,-399.5 945.5,-405.5 939.5,-411.5 933.5,-411.5\"/>\n",
       "<text text-anchor=\"start\" x=\"833\" y=\"-399.1\" font-family=\"Arial\" font-size=\"8.00\" fill=\"#222222\">com.starlingbank.queue.core</text>\n",
       "<text text-anchor=\"start\" x=\"869\" y=\"-384.5\" font-family=\"Arial\" font-size=\"10.00\" fill=\"#222222\">Worker</text>\n",
       "</g>\n",
       "<!-- cardprocessor_WorkflowManager&#45;&gt;cardprocessor_Worker -->\n",
       "<g id=\"edge5\" class=\"edge\">\n",
       "<title>cardprocessor_WorkflowManager-&gt;cardprocessor_Worker</title>\n",
       "<path fill=\"none\" stroke=\"#444444\" d=\"M648,-493.84C648,-461.9 648,-399 648,-399 648,-399 812.3,-399 812.3,-399\"/>\n",
       "<polygon fill=\"#444444\" stroke=\"#444444\" points=\"812.3,-402.5 822.3,-399 812.3,-395.5 812.3,-402.5\"/>\n",
       "</g>\n",
       "<!-- cardprocessor_WorkflowManager_workflow_steps -->\n",
       "<g id=\"node10\" class=\"node\">\n",
       "<title>cardprocessor_WorkflowManager_workflow_steps</title>\n",
       "<polygon fill=\"#e6ffd6\" stroke=\"black\" points=\"1488,-458 1246,-458 1246,-329 1494,-329 1494,-452 1488,-458\"/>\n",
       "<polyline fill=\"none\" stroke=\"black\" points=\"1488,-458 1488,-452 \"/>\n",
       "<polyline fill=\"none\" stroke=\"black\" points=\"1494,-452 1488,-452 \"/>\n",
       "<text text-anchor=\"middle\" x=\"1370\" y=\"-446\" font-family=\"Arial\" font-size=\"10.00\" fill=\"#006400\">CLEARING_PRESENTMENT_CHECK</text>\n",
       "<text text-anchor=\"middle\" x=\"1370\" y=\"-435\" font-family=\"Arial\" font-size=\"10.00\" fill=\"#006400\">CLEARING_PRESENTMENT_LINKING</text>\n",
       "<text text-anchor=\"middle\" x=\"1370\" y=\"-424\" font-family=\"Arial\" font-size=\"10.00\" fill=\"#006400\">CLEARING_PRESENTMENT_SAVE</text>\n",
       "<text text-anchor=\"middle\" x=\"1370\" y=\"-413\" font-family=\"Arial\" font-size=\"10.00\" fill=\"#006400\">CLEARING_CARD_DETAILS</text>\n",
       "<text text-anchor=\"middle\" x=\"1370\" y=\"-402\" font-family=\"Arial\" font-size=\"10.00\" fill=\"#006400\">CLEARING_AUTH_DETAILS</text>\n",
       "<text text-anchor=\"middle\" x=\"1370\" y=\"-391\" font-family=\"Arial\" font-size=\"10.00\" fill=\"#006400\">CLEARING_COUNTER_PARTY_LOOKUP</text>\n",
       "<text text-anchor=\"middle\" x=\"1370\" y=\"-380\" font-family=\"Arial\" font-size=\"10.00\" fill=\"#006400\">CLEARING_CARD_PRODUCT_TYPE</text>\n",
       "<text text-anchor=\"middle\" x=\"1370\" y=\"-369\" font-family=\"Arial\" font-size=\"10.00\" fill=\"#006400\">CLEARING_BALANCE_UPDATE</text>\n",
       "<text text-anchor=\"middle\" x=\"1370\" y=\"-358\" font-family=\"Arial\" font-size=\"10.00\" fill=\"#006400\">CLEARING_FAST_GAMING_CREDIT</text>\n",
       "<text text-anchor=\"middle\" x=\"1370\" y=\"-347\" font-family=\"Arial\" font-size=\"10.00\" fill=\"#006400\">CLEARING_PRESENTMENT_STATUS_UPDATE</text>\n",
       "<text text-anchor=\"middle\" x=\"1370\" y=\"-336\" font-family=\"Arial\" font-size=\"10.00\" fill=\"#006400\">CLEARING_SETTLED_FEED_ITEM_TO_DISPUTE</text>\n",
       "</g>\n",
       "<!-- cardprocessor_WorkflowManager&#45;&gt;cardprocessor_WorkflowManager_workflow_steps -->\n",
       "<g id=\"edge4\" class=\"edge\">\n",
       "<title>cardprocessor_WorkflowManager-&gt;cardprocessor_WorkflowManager_workflow_steps</title>\n",
       "<path fill=\"none\" stroke=\"#006400\" stroke-dasharray=\"5,2\" d=\"M676.5,-493.91C676.5,-470.87 676.5,-434 676.5,-434 676.5,-434 1235.62,-434 1235.62,-434\"/>\n",
       "<polygon fill=\"#006400\" stroke=\"#006400\" points=\"1235.62,-437.5 1245.62,-434 1235.62,-430.5 1235.62,-437.5\"/>\n",
       "</g>\n",
       "<!-- cardprocessor_ClearingPresentmentSaveHandler -->\n",
       "<g id=\"node3\" class=\"node\">\n",
       "<title>cardprocessor_ClearingPresentmentSaveHandler</title>\n",
       "<path fill=\"#e0e0e0\" stroke=\"#006400\" d=\"M515.5,-212.5C515.5,-212.5 310.5,-212.5 310.5,-212.5 304.5,-212.5 298.5,-206.5 298.5,-200.5 298.5,-200.5 298.5,-188.5 298.5,-188.5 298.5,-182.5 304.5,-176.5 310.5,-176.5 310.5,-176.5 515.5,-176.5 515.5,-176.5 521.5,-176.5 527.5,-182.5 527.5,-188.5 527.5,-188.5 527.5,-200.5 527.5,-200.5 527.5,-206.5 521.5,-212.5 515.5,-212.5\"/>\n",
       "<text text-anchor=\"start\" x=\"309\" y=\"-200.1\" font-family=\"Arial\" font-size=\"8.00\" fill=\"#222222\">com.starlingbank.cardprocessor.workflow.clearing.handlers</text>\n",
       "<text text-anchor=\"start\" x=\"339.5\" y=\"-185.5\" font-family=\"Arial\" font-size=\"10.00\" fill=\"#222222\">ClearingPresentmentSaveHandler</text>\n",
       "</g>\n",
       "<!-- cardprocessor_AuthorisationMatcher&#45;&gt;cardprocessor_ClearingPresentmentSaveHandler -->\n",
       "<g id=\"edge6\" class=\"edge\">\n",
       "<title>cardprocessor_AuthorisationMatcher-&gt;cardprocessor_ClearingPresentmentSaveHandler</title>\n",
       "<path fill=\"none\" stroke=\"#444444\" d=\"M379,-375.49C379,-375.49 379,-222.61 379,-222.61\"/>\n",
       "<polygon fill=\"#444444\" stroke=\"#444444\" points=\"382.5,-222.61 379,-212.61 375.5,-222.61 382.5,-222.61\"/>\n",
       "</g>\n",
       "<!-- cardprocessor_ApprovalCodeMatcher -->\n",
       "<g id=\"node4\" class=\"node\">\n",
       "<title>cardprocessor_ApprovalCodeMatcher</title>\n",
       "<path fill=\"#e0e0e0\" stroke=\"#006400\" d=\"M268,-212.5C268,-212.5 56,-212.5 56,-212.5 50,-212.5 44,-206.5 44,-200.5 44,-200.5 44,-188.5 44,-188.5 44,-182.5 50,-176.5 56,-176.5 56,-176.5 268,-176.5 268,-176.5 274,-176.5 280,-182.5 280,-188.5 280,-188.5 280,-200.5 280,-200.5 280,-206.5 274,-212.5 268,-212.5\"/>\n",
       "<text text-anchor=\"start\" x=\"54\" y=\"-200.1\" font-family=\"Arial\" font-size=\"8.00\" fill=\"#222222\">com.starlingbank.cardprocessor.presentment.match.matcher</text>\n",
       "<text text-anchor=\"start\" x=\"113.5\" y=\"-185.5\" font-family=\"Arial\" font-size=\"10.00\" fill=\"#222222\">ApprovalCodeMatcher</text>\n",
       "</g>\n",
       "<!-- cardprocessor_AuthorisationMatcher&#45;&gt;cardprocessor_ApprovalCodeMatcher -->\n",
       "<g id=\"edge7\" class=\"edge\">\n",
       "<title>cardprocessor_AuthorisationMatcher-&gt;cardprocessor_ApprovalCodeMatcher</title>\n",
       "<path fill=\"none\" stroke=\"#444444\" d=\"M310.91,-393C241.42,-393 162,-393 162,-393 162,-393 162,-222.82 162,-222.82\"/>\n",
       "<polygon fill=\"#444444\" stroke=\"#444444\" points=\"165.5,-222.82 162,-212.82 158.5,-222.82 165.5,-222.82\"/>\n",
       "</g>\n",
       "<!-- cardprocessor_ClearingPresentmentSaveHandler&#45;&gt;cardprocessor_AuthorisationMatcher -->\n",
       "<g id=\"edge8\" class=\"edge\">\n",
       "<title>cardprocessor_ClearingPresentmentSaveHandler-&gt;cardprocessor_AuthorisationMatcher</title>\n",
       "<path fill=\"none\" stroke=\"#444444\" d=\"M447,-212.51C447,-212.51 447,-365.39 447,-365.39\"/>\n",
       "<polygon fill=\"#444444\" stroke=\"#444444\" points=\"443.5,-365.39 447,-375.39 450.5,-365.39 443.5,-365.39\"/>\n",
       "</g>\n",
       "<!-- cardprocessor_FastCreditGamingClearingHandler -->\n",
       "<g id=\"node5\" class=\"node\">\n",
       "<title>cardprocessor_FastCreditGamingClearingHandler</title>\n",
       "<path fill=\"#e0e0e0\" stroke=\"#006400\" d=\"M252.5,-60C252.5,-60 47.5,-60 47.5,-60 41.5,-60 35.5,-54 35.5,-48 35.5,-48 35.5,-36 35.5,-36 35.5,-30 41.5,-24 47.5,-24 47.5,-24 252.5,-24 252.5,-24 258.5,-24 264.5,-30 264.5,-36 264.5,-36 264.5,-48 264.5,-48 264.5,-54 258.5,-60 252.5,-60\"/>\n",
       "<text text-anchor=\"start\" x=\"46\" y=\"-47.6\" font-family=\"Arial\" font-size=\"8.00\" fill=\"#222222\">com.starlingbank.cardprocessor.workflow.clearing.handlers</text>\n",
       "<text text-anchor=\"start\" x=\"75.5\" y=\"-33\" font-family=\"Arial\" font-size=\"10.00\" fill=\"#222222\">FastCreditGamingClearingHandler</text>\n",
       "</g>\n",
       "<!-- cardprocessor_ApprovalCodeMatcher&#45;&gt;cardprocessor_FastCreditGamingClearingHandler -->\n",
       "<g id=\"edge9\" class=\"edge\">\n",
       "<title>cardprocessor_ApprovalCodeMatcher-&gt;cardprocessor_FastCreditGamingClearingHandler</title>\n",
       "<path fill=\"none\" stroke=\"#444444\" d=\"M154.25,-176.41C154.25,-176.41 154.25,-70.07 154.25,-70.07\"/>\n",
       "<polygon fill=\"#444444\" stroke=\"#444444\" points=\"157.75,-70.07 154.25,-60.07 150.75,-70.07 157.75,-70.07\"/>\n",
       "</g>\n",
       "<!-- cardprocessor_FastCreditGamingClearingHandler&#45;&gt;cardprocessor_WorkflowManager -->\n",
       "<g id=\"edge10\" class=\"edge\">\n",
       "<title>cardprocessor_FastCreditGamingClearingHandler-&gt;cardprocessor_WorkflowManager</title>\n",
       "<path fill=\"none\" stroke=\"#444444\" d=\"M41.17,-60.14C41.17,-146.51 41.17,-512 41.17,-512 41.17,-512 580.91,-512 580.91,-512\"/>\n",
       "<polygon fill=\"#444444\" stroke=\"#444444\" points=\"580.91,-515.5 590.91,-512 580.91,-508.5 580.91,-515.5\"/>\n",
       "</g>\n",
       "<!-- cardprocessor_FastCreditGamingClearingHandler&#45;&gt;cardprocessor_FastCreditGamingClearingHandler -->\n",
       "<g id=\"edge11\" class=\"edge\">\n",
       "<title>cardprocessor_FastCreditGamingClearingHandler-&gt;cardprocessor_FastCreditGamingClearingHandler</title>\n",
       "<path fill=\"none\" stroke=\"#444444\" d=\"M38.33,-60.42C38.33,-69.28 38.33,-78 38.33,-78 38.33,-78 17.5,-78 17.5,-78 17.5,-78 17.5,-6 17.5,-6 17.5,-6 150,-6 150,-6 150,-6 150,-13.58 150,-13.58\"/>\n",
       "<polygon fill=\"#444444\" stroke=\"#444444\" points=\"146.5,-13.58 150,-23.58 153.5,-13.58 146.5,-13.58\"/>\n",
       "</g>\n",
       "<!-- cardprocessor_Worker_error -->\n",
       "<g id=\"node6\" class=\"node\">\n",
       "<title>cardprocessor_Worker_error</title>\n",
       "<polygon fill=\"#ffcccc\" stroke=\"black\" points=\"1216.5,-293 545.5,-293 545.5,-96 1222.5,-96 1222.5,-287 1216.5,-293\"/>\n",
       "<polyline fill=\"none\" stroke=\"black\" points=\"1216.5,-293 1216.5,-287 \"/>\n",
       "<polyline fill=\"none\" stroke=\"black\" points=\"1222.5,-287 1216.5,-287 \"/>\n",
       "<text text-anchor=\"start\" x=\"553.5\" y=\"-282.6\" font-family=\"Arial\" font-size=\"8.00\" fill=\"#800020\">Uncaught exception in worker jakarta.ws.rs.ProcessingException: RESTEASY004655: Unable to invoke request: java.net.SocketException: Connection reset</text>\n",
       "<text text-anchor=\"start\" x=\"553.5\" y=\"-273.6\" font-family=\"Arial\" font-size=\"8.00\" fill=\"#800020\">...</text>\n",
       "<text text-anchor=\"start\" x=\"553.5\" y=\"-264.6\" font-family=\"Arial\" font-size=\"8.00\" fill=\"#800020\">\tat com.starlingbank.rest.client.InvocationHandlerChain.lambda$invoke$0(InvocationHandlerChain.java:25)</text>\n",
       "<text text-anchor=\"start\" x=\"553.5\" y=\"-255.6\" font-family=\"Arial\" font-size=\"8.00\" fill=\"#800020\">\tat com.starlingbank.rest.client.ClientErrorInterceptor.invokeNext(ClientErrorInterceptor.java:31)</text>\n",
       "<text text-anchor=\"start\" x=\"553.5\" y=\"-246.6\" font-family=\"Arial\" font-size=\"8.00\" fill=\"#800020\">\tat com.starlingbank.rest.client.InvocationHandlerChain.lambda$invoke$1(InvocationHandlerChain.java:28)</text>\n",
       "<text text-anchor=\"start\" x=\"553.5\" y=\"-237.6\" font-family=\"Arial\" font-size=\"8.00\" fill=\"#800020\">\tat com.starlingbank.rest.client.InvocationHandlerChain.invoke(InvocationHandlerChain.java:30)</text>\n",
       "<text text-anchor=\"start\" x=\"553.5\" y=\"-228.6\" font-family=\"Arial\" font-size=\"8.00\" fill=\"#800020\">...</text>\n",
       "<text text-anchor=\"start\" x=\"553.5\" y=\"-219.6\" font-family=\"Arial\" font-size=\"8.00\" fill=\"#800020\">\tat com.starlingbank.cardprocessor.settlement.SettlementCycleToCustomerQueue$SettlementCycleToCustomerQueueExecutor.execute(SettlementCycleToCustomerQueue.java:120)</text>\n",
       "<text text-anchor=\"start\" x=\"553.5\" y=\"-210.6\" font-family=\"Arial\" font-size=\"8.00\" fill=\"#800020\">\tat com.starlingbank.cardprocessor.settlement.SettlementCycleToCustomerQueue$SettlementCycleToCustomerQueueExecutor.execute(SettlementCycleToCustomerQueue.java:50)</text>\n",
       "<text text-anchor=\"start\" x=\"553.5\" y=\"-201.6\" font-family=\"Arial\" font-size=\"8.00\" fill=\"#800020\">\tat com.starlingbank.queue.core.Worker.lambda$doExecute$2(Worker.java:239)</text>\n",
       "<text text-anchor=\"start\" x=\"553.5\" y=\"-192.6\" font-family=\"Arial\" font-size=\"8.00\" fill=\"#800020\">\tat com.starlingbank.shared.correlation.implementation.CorrelationScopeDefault.inScope(CorrelationScopeDefault.java:51)</text>\n",
       "<text text-anchor=\"start\" x=\"553.5\" y=\"-183.6\" font-family=\"Arial\" font-size=\"8.00\" fill=\"#800020\">\tat com.starlingbank.queue.core.Worker.doExecute(Worker.java:233)</text>\n",
       "<text text-anchor=\"start\" x=\"553.5\" y=\"-174.6\" font-family=\"Arial\" font-size=\"8.00\" fill=\"#800020\">\tat com.starlingbank.queue.core.Worker.doOtelExecute(Worker.java:217)</text>\n",
       "<text text-anchor=\"start\" x=\"553.5\" y=\"-165.6\" font-family=\"Arial\" font-size=\"8.00\" fill=\"#800020\">\tat com.starlingbank.queue.core.Worker.execute(Worker.java:204)</text>\n",
       "<text text-anchor=\"start\" x=\"553.5\" y=\"-156.6\" font-family=\"Arial\" font-size=\"8.00\" fill=\"#800020\">\tat com.starlingbank.queue.core.Worker.lambda$run$1(Worker.java:152)</text>\n",
       "<text text-anchor=\"start\" x=\"553.5\" y=\"-147.6\" font-family=\"Arial\" font-size=\"8.00\" fill=\"#800020\">...</text>\n",
       "<text text-anchor=\"start\" x=\"553.5\" y=\"-138.6\" font-family=\"Arial\" font-size=\"8.00\" fill=\"#800020\">\tat com.starlingbank.queue.core.Worker.run(Worker.java:148)</text>\n",
       "<text text-anchor=\"start\" x=\"553.5\" y=\"-129.6\" font-family=\"Arial\" font-size=\"8.00\" fill=\"#800020\">...</text>\n",
       "<text text-anchor=\"start\" x=\"553.5\" y=\"-120.6\" font-family=\"Arial\" font-size=\"8.00\" fill=\"#800020\">Caused by: java.net.SocketException: Connection reset</text>\n",
       "<text text-anchor=\"start\" x=\"553.5\" y=\"-111.6\" font-family=\"Arial\" font-size=\"8.00\" fill=\"#800020\">...</text>\n",
       "<text text-anchor=\"start\" x=\"553.5\" y=\"-102.6\" font-family=\"Arial\" font-size=\"8.00\" fill=\"#800020\">\t... 27 common frames omitted</text>\n",
       "</g>\n",
       "<!-- cardprocessor_Worker&#45;&gt;cardprocessor_Worker_error -->\n",
       "<g id=\"edge1\" class=\"edge\">\n",
       "<title>cardprocessor_Worker-&gt;cardprocessor_Worker_error</title>\n",
       "<path fill=\"none\" stroke=\"#b00020\" stroke-dasharray=\"5,2\" d=\"M863.5,-375.49C863.5,-375.49 863.5,-303.37 863.5,-303.37\"/>\n",
       "<polygon fill=\"#b00020\" stroke=\"#b00020\" points=\"867,-303.37 863.5,-293.37 860,-303.37 867,-303.37\"/>\n",
       "</g>\n",
       "<!-- cardprocessor_Worker&#45;&gt;cardprocessor_Worker_error -->\n",
       "<g id=\"edge13\" class=\"edge\">\n",
       "<title>cardprocessor_Worker-&gt;cardprocessor_Worker_error</title>\n",
       "<path fill=\"none\" stroke=\"#b00020\" stroke-dasharray=\"5,2\" d=\"M904.5,-375.49C904.5,-375.49 904.5,-303.37 904.5,-303.37\"/>\n",
       "<polygon fill=\"#b00020\" stroke=\"#b00020\" points=\"908,-303.37 904.5,-293.37 901,-303.37 908,-303.37\"/>\n",
       "</g>\n",
       "<!-- E -->\n",
       "<g id=\"node9\" class=\"node\">\n",
       "<title>E</title>\n",
       "<ellipse fill=\"#4e78a5\" stroke=\"black\" cx=\"1275\" cy=\"-194.5\" rx=\"25.22\" ry=\"25.22\"/>\n",
       "<ellipse fill=\"none\" stroke=\"black\" cx=\"1275\" cy=\"-194.5\" rx=\"29.2\" ry=\"29.2\"/>\n",
       "<text text-anchor=\"middle\" x=\"1275\" y=\"-190.8\" font-family=\"Arial\" font-size=\"14.00\" fill=\"#ffffff\">end</text>\n",
       "</g>\n",
       "<!-- cardprocessor_Worker&#45;&gt;E -->\n",
       "<g id=\"edge12\" class=\"edge\">\n",
       "<title>cardprocessor_Worker-&gt;E</title>\n",
       "<path fill=\"none\" stroke=\"#444444\" d=\"M945.78,-393C1046.28,-393 1234.08,-393 1234.08,-393 1234.08,-393 1234.08,-194 1234.08,-194 1234.08,-194 1235.26,-194 1235.26,-194\"/>\n",
       "<polygon fill=\"#444444\" stroke=\"#444444\" points=\"1235.26,-197.5 1245.26,-194 1235.26,-190.5 1235.26,-197.5\"/>\n",
       "</g>\n",
       "<!-- S -->\n",
       "<g id=\"node8\" class=\"node\">\n",
       "<title>S</title>\n",
       "<ellipse fill=\"#97c253\" stroke=\"black\" cx=\"648\" cy=\"-627.95\" rx=\"27.9\" ry=\"27.9\"/>\n",
       "<text text-anchor=\"middle\" x=\"648\" y=\"-624.25\" font-family=\"Arial\" font-size=\"14.00\" fill=\"#ffffff\">start</text>\n",
       "</g>\n",
       "<!-- S&#45;&gt;cardprocessor_WorkflowManager -->\n",
       "<g id=\"edge2\" class=\"edge\">\n",
       "<title>S-&gt;cardprocessor_WorkflowManager</title>\n",
       "<path fill=\"none\" stroke=\"#444444\" d=\"M648,-599.88C648,-599.88 648,-540.06 648,-540.06\"/>\n",
       "<polygon fill=\"#444444\" stroke=\"#444444\" points=\"651.5,-540.06 648,-530.06 644.5,-540.06 651.5,-540.06\"/>\n",
       "</g>\n",
       "</g>\n",
       "</svg>"
      ],
      "text/plain": [
       "<IPython.core.display.SVG object>"
      ]
     },
     "metadata": {},
     "output_type": "display_data"
    }
   ],
   "source": [
    "from IPython.display import SVG\n",
    "\n",
    "for correlation_id in correlation_id_list:\n",
    "  display(SVG(f'./output/{correlation_id}.svg'))"
   ]
  }
 ],
 "metadata": {
  "colab": {
   "authorship_tag": "ABX9TyN+YI9Y/UjLPBJpo8al97dC",
   "mount_file_id": "1-QYOeTdDAmKWzQ_gQ7-XDXTRaRhzCse5",
   "provenance": []
  },
  "kernelspec": {
   "display_name": "Python 3 (ipykernel)",
   "language": "python",
   "name": "python3"
  },
  "language_info": {
   "codemirror_mode": {
    "name": "ipython",
    "version": 3
   },
   "file_extension": ".py",
   "mimetype": "text/x-python",
   "name": "python",
   "nbconvert_exporter": "python",
   "pygments_lexer": "ipython3",
   "version": "3.13.9"
  }
 },
 "nbformat": 4,
 "nbformat_minor": 4
}
