{
 "cells": [
  {
   "cell_type": "markdown",
   "metadata": {
    "id": "nqd0mTEDRoTK"
   },
   "source": [
    "Enter the `correlation_id` you're interested in, and also the HUMIO Repo between `sb-demo`for DEMO and `sb-production` for PROD."
   ]
  },
  {
   "cell_type": "code",
   "execution_count": null,
   "metadata": {
    "cellView": "form",
    "executionInfo": {
     "elapsed": 2,
     "status": "ok",
     "timestamp": 1746451442047,
     "user": {
      "displayName": "Victor Hogemann",
      "userId": "18201533900187719089"
     },
     "user_tz": -60
    },
    "id": "sg3qRyK6OU9f"
   },
   "outputs": [],
   "source": [
    "correlation_id = \"33f9301e43744d56f34cebc74690fc4d\" # @param {\"type\":\"string\"}\n",
    "repo = \"sb-demo\" # @param [\"sb-demo\",\"sb-production\"]\n",
    "start = \"2d\" # @param [\"3h\",\"12h\",\"1d\",\"7d\",\"30d\"]"
   ]
  },
  {
   "cell_type": "markdown",
   "metadata": {
    "id": "ERqtmM_sP2Dk"
   },
   "source": [
    "# Graph generation"
   ]
  },
  {
   "cell_type": "code",
   "execution_count": null,
   "metadata": {
    "colab": {
     "base_uri": "https://localhost:8080/"
    },
    "executionInfo": {
     "elapsed": 18854,
     "status": "ok",
     "timestamp": 1746451462972,
     "user": {
      "displayName": "Victor Hogemann",
      "userId": "18201533900187719089"
     },
     "user_tz": -60
    },
    "id": "wv9b64RneVIa",
    "outputId": "51dbbfed-509e-4d9a-df75-d831bb3a2577"
   },
   "outputs": [],
   "source": [
    "from log_to_graph.humio import query_logs\n",
    "from dotenv import load_dotenv\n",
    "import os\n",
    "\n",
    "load_dotenv()\n",
    "user_token = str(os.getenv(\"HUMIO_TOKEN\"))\n",
    "\n",
    "event_map = query_logs(\n",
    "    user_token,\n",
    "    repo,\n",
    "    start,\n",
    "    correlation_id\n",
    ")\n",
    "correlation_id_list = list(event_map.keys())"
   ]
  },
  {
   "cell_type": "code",
   "execution_count": null,
   "metadata": {},
   "outputs": [],
   "source": [
    "%load_ext autoreload\n",
    "%autoreload 2\n",
    "\n",
    "from log_to_graph.flowchart import node_factory, FlowChart, LIGHT_THEME, UNICORN_THEME, HOTDOG_THEME, VAPORWAVE_THEME, GAMEBOY_THEME, OCEANIC_THEME, MATRIX_THEME, AUTUMN_LEAVES_THEME, CYBERPUNK_THEME, RAINBOW_THEME, SOLARIZED_THEME\n",
    "\n",
    "for correlation_id in correlation_id_list:\n",
    "    FlowChart(\n",
    "        correlation_id, \n",
    "        list(map(lambda x: node_factory(x), event_map[correlation_id])),\n",
    "        theme=LIGHT_THEME,\n",
    "    ).to_graphviz().unflatten().render(f'./output/{correlation_id}')"
   ]
  },
  {
   "cell_type": "markdown",
   "metadata": {
    "id": "sTmfJBuXQJ4j"
   },
   "source": [
    "# Result"
   ]
  },
  {
   "cell_type": "code",
   "execution_count": null,
   "metadata": {
    "executionInfo": {
     "elapsed": 0,
     "status": "ok",
     "timestamp": 1746451361450,
     "user": {
      "displayName": "Victor Hogemann",
      "userId": "18201533900187719089"
     },
     "user_tz": -60
    },
    "id": "VsHCBOfOwbtE"
   },
   "outputs": [],
   "source": [
    "from IPython.display import SVG\n",
    "\n",
    "for correlation_id in correlation_id_list:\n",
    "  display(SVG(f'./output/{correlation_id}.svg'))"
   ]
  }
 ],
 "metadata": {
  "colab": {
   "authorship_tag": "ABX9TyN+YI9Y/UjLPBJpo8al97dC",
   "mount_file_id": "1-QYOeTdDAmKWzQ_gQ7-XDXTRaRhzCse5",
   "provenance": []
  },
  "kernelspec": {
   "display_name": ".venv-1 (3.14.0)",
   "language": "python",
   "name": "python3"
  },
  "language_info": {
   "codemirror_mode": {
    "name": "ipython",
    "version": 3
   },
   "file_extension": ".py",
   "mimetype": "text/x-python",
   "name": "python",
   "nbconvert_exporter": "python",
   "pygments_lexer": "ipython3",
   "version": "3.14.0"
  }
 },
 "nbformat": 4,
 "nbformat_minor": 4
}
