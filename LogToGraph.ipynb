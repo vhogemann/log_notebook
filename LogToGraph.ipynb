{
 "cells": [
  {
   "cell_type": "markdown",
   "metadata": {
    "id": "nqd0mTEDRoTK"
   },
   "source": [
    "Enter the `correlation_id` you're interested in, and also the HUMIO Repo between `sb-demo`for DEMO and `sb-production` for PROD."
   ]
  },
  {
   "cell_type": "code",
   "execution_count": 1,
   "metadata": {
    "cellView": "form",
    "executionInfo": {
     "elapsed": 2,
     "status": "ok",
     "timestamp": 1746451442047,
     "user": {
      "displayName": "Victor Hogemann",
      "userId": "18201533900187719089"
     },
     "user_tz": -60
    },
    "id": "sg3qRyK6OU9f"
   },
   "outputs": [],
   "source": [
    "correlation_id = \"55aecc027a133a3404f881f2e0c5c97d\" # @param {\"type\":\"string\"}\n",
    "repo = \"sb-production\" # @param [\"sb-demo\",\"sb-production\"]\n",
    "start = \"2d\" # @param [\"3h\",\"12h\",\"1d\",\"7d\",\"30d\"]"
   ]
  },
  {
   "cell_type": "markdown",
   "metadata": {
    "id": "ERqtmM_sP2Dk"
   },
   "source": [
    "# Graph generation"
   ]
  },
  {
   "cell_type": "code",
   "execution_count": 2,
   "metadata": {
    "colab": {
     "base_uri": "https://localhost:8080/"
    },
    "executionInfo": {
     "elapsed": 18854,
     "status": "ok",
     "timestamp": 1746451462972,
     "user": {
      "displayName": "Victor Hogemann",
      "userId": "18201533900187719089"
     },
     "user_tz": -60
    },
    "id": "wv9b64RneVIa",
    "outputId": "51dbbfed-509e-4d9a-df75-d831bb3a2577"
   },
   "outputs": [],
   "source": [
    "from humio import query_logs\n",
    "from dotenv import load_dotenv\n",
    "import os\n",
    "\n",
    "load_dotenv()\n",
    "user_token = str(os.getenv(\"HUMIO_TOKEN\"))\n",
    "\n",
    "event_map = query_logs(\n",
    "    user_token,\n",
    "    repo,\n",
    "    start,\n",
    "    correlation_id\n",
    ")\n",
    "correlation_id_list = list(event_map.keys())"
   ]
  },
  {
   "cell_type": "code",
   "execution_count": null,
   "metadata": {},
   "outputs": [],
   "source": [
    "from flowchart import Node, FlowChart, LIGHT_THEME, UNICORN_THEME, HOTDOG_THEME, VAPORWAVE_THEME, GAMEBOY_THEME, OCEANIC_THEME, MATRIX_THEME, AUTUMN_LEAVES_THEME, CYBERPUNK_THEME, RAINBOW_THEME, SOLARIZED_THEME\n",
    "\n",
    "for correlation_id in correlation_id_list:\n",
    "    FlowChart(\n",
    "        correlation_id, \n",
    "        list(map(lambda x: Node(x), event_map[correlation_id])),\n",
    "        theme=GAMEBOY_THEME,\n",
    "    ).to_graphviz().unflatten().render(f'./output/{correlation_id}')"
   ]
  },
  {
   "cell_type": "markdown",
   "metadata": {
    "id": "sTmfJBuXQJ4j"
   },
   "source": [
    "# Result"
   ]
  },
  {
   "cell_type": "code",
   "execution_count": 9,
   "metadata": {
    "executionInfo": {
     "elapsed": 0,
     "status": "ok",
     "timestamp": 1746451361450,
     "user": {
      "displayName": "Victor Hogemann",
      "userId": "18201533900187719089"
     },
     "user_tz": -60
    },
    "id": "VsHCBOfOwbtE"
   },
   "outputs": [
    {
     "data": {
      "image/svg+xml": [
       "<svg xmlns=\"http://www.w3.org/2000/svg\" xmlns:xlink=\"http://www.w3.org/1999/xlink\" width=\"1234pt\" height=\"605pt\" viewBox=\"0.00 0.00 1234.12 604.97\">\n",
       "<g id=\"graph0\" class=\"graph\" transform=\"scale(1 1) rotate(0) translate(4 600.97)\">\n",
       "<polygon fill=\"#fdf6e3\" stroke=\"none\" points=\"-4,4 -4,-600.97 1230.12,-600.97 1230.12,4 -4,4\"/>\n",
       "<text text-anchor=\"middle\" x=\"613.06\" y=\"-579.67\" font-family=\"Fira Mono\" font-size=\"14.00\" fill=\"#657b83\">Correlation ID: 55aecc027a133a3404f881f2e0c5c97d</text>\n",
       "<g id=\"clust1\" class=\"cluster\">\n",
       "<title>cluster_paymentsprocessing</title>\n",
       "<polygon fill=\"#b58900\" stroke=\"#fdf6e3\" points=\"8,-165.17 8,-511.05 204,-511.05 204,-165.17 8,-165.17\"/>\n",
       "<text text-anchor=\"middle\" x=\"106\" y=\"-493.75\" font-family=\"Fira Mono\" font-size=\"14.00\" fill=\"#fdf6e3\">paymentsprocessing</text>\n",
       "</g>\n",
       "<g id=\"clust2\" class=\"cluster\">\n",
       "<title>cluster_mastercard</title>\n",
       "<polygon fill=\"#2aa198\" stroke=\"#fdf6e3\" points=\"16,-173.17 16,-480.05 196,-480.05 196,-173.17 16,-173.17\"/>\n",
       "<text text-anchor=\"middle\" x=\"106\" y=\"-462.75\" font-family=\"Fira Mono\" font-size=\"14.00\" fill=\"#fdf6e3\">mastercard</text>\n",
       "</g>\n",
       "<!-- ca317f06&#45;12cb&#45;4ce4&#45;826e&#45;e4819ae5054b -->\n",
       "<g id=\"node1\" class=\"node\">\n",
       "<title>ca317f06-12cb-4ce4-826e-e4819ae5054b</title>\n",
       "<path fill=\"#b58900\" stroke=\"black\" d=\"M175.62,-449.05C175.62,-449.05 36.38,-449.05 36.38,-449.05 30.37,-449.05 24.38,-443.05 24.38,-437.05 24.38,-437.05 24.38,-424.8 24.38,-424.8 24.38,-418.8 30.38,-412.8 36.38,-412.8 36.38,-412.8 175.62,-412.8 175.62,-412.8 181.62,-412.8 187.62,-418.8 187.62,-424.8 187.62,-424.8 187.62,-437.05 187.62,-437.05 187.62,-443.05 181.62,-449.05 175.62,-449.05\"/>\n",
       "<text text-anchor=\"start\" x=\"34.38\" y=\"-435.45\" font-family=\"Fira Mono\" font-size=\"8.00\" fill=\"#fdf6e3\">com.starlingbank.mastercard.issuer.auth</text>\n",
       "<text text-anchor=\"start\" x=\"42.25\" y=\"-420.55\" font-family=\"Fira Mono\" font-size=\"10.00\" fill=\"#fdf6e3\">AuthorisationRequestHandler</text>\n",
       "</g>\n",
       "<!-- e186877c&#45;b39a&#45;4985&#45;82fc&#45;c9b2cd8849e6 -->\n",
       "<g id=\"node2\" class=\"node\">\n",
       "<title>e186877c-b39a-4985-82fc-c9b2cd8849e6</title>\n",
       "<path fill=\"#b58900\" stroke=\"#dc322f\" d=\"M175.62,-376.8C175.62,-376.8 36.38,-376.8 36.38,-376.8 30.37,-376.8 24.38,-370.8 24.38,-364.8 24.38,-364.8 24.38,-352.55 24.38,-352.55 24.38,-346.55 30.38,-340.55 36.38,-340.55 36.38,-340.55 175.62,-340.55 175.62,-340.55 181.62,-340.55 187.62,-346.55 187.62,-352.55 187.62,-352.55 187.62,-364.8 187.62,-364.8 187.62,-370.8 181.62,-376.8 175.62,-376.8\"/>\n",
       "<text text-anchor=\"start\" x=\"34.38\" y=\"-363.2\" font-family=\"Fira Mono\" font-size=\"8.00\" fill=\"#fdf6e3\">com.starlingbank.mastercard.issuer.auth</text>\n",
       "<text text-anchor=\"start\" x=\"42.25\" y=\"-348.3\" font-family=\"Fira Mono\" font-size=\"10.00\" fill=\"#fdf6e3\">AuthorisationRequestHandler</text>\n",
       "</g>\n",
       "<!-- ca317f06&#45;12cb&#45;4ce4&#45;826e&#45;e4819ae5054b&#45;&gt;e186877c&#45;b39a&#45;4985&#45;82fc&#45;c9b2cd8849e6 -->\n",
       "<g id=\"edge2\" class=\"edge\">\n",
       "<title>ca317f06-12cb-4ce4-826e-e4819ae5054b-&gt;e186877c-b39a-4985-82fc-c9b2cd8849e6</title>\n",
       "<path fill=\"none\" stroke=\"#b58900\" d=\"M106,-412.31C106,-412.31 106,-388.48 106,-388.48\"/>\n",
       "<polygon fill=\"#b58900\" stroke=\"#b58900\" points=\"109.5,-388.48 106,-378.48 102.5,-388.48 109.5,-388.48\"/>\n",
       "</g>\n",
       "<!-- 1a8e5883&#45;3ef1&#45;4e46&#45;8620&#45;75fd7dd7cb15 -->\n",
       "<g id=\"node3\" class=\"node\">\n",
       "<title>1a8e5883-3ef1-4e46-8620-75fd7dd7cb15</title>\n",
       "<path fill=\"#b58900\" stroke=\"black\" d=\"M174.88,-217.42C174.88,-217.42 37.12,-217.42 37.12,-217.42 31.12,-217.42 25.12,-211.42 25.12,-205.42 25.12,-205.42 25.12,-193.17 25.12,-193.17 25.12,-187.17 31.12,-181.17 37.12,-181.17 37.12,-181.17 174.88,-181.17 174.88,-181.17 180.88,-181.17 186.88,-187.17 186.88,-193.17 186.88,-193.17 186.88,-205.42 186.88,-205.42 186.88,-211.42 180.88,-217.42 174.88,-217.42\"/>\n",
       "<text text-anchor=\"start\" x=\"39.25\" y=\"-203.82\" font-family=\"Fira Mono\" font-size=\"8.00\" fill=\"#fdf6e3\">com.starlingbank.mastercard.inbound</text>\n",
       "<text text-anchor=\"start\" x=\"35.12\" y=\"-188.92\" font-family=\"Fira Mono\" font-size=\"10.00\" fill=\"#fdf6e3\">AuthorisationMessageConsumer</text>\n",
       "</g>\n",
       "<!-- e186877c&#45;b39a&#45;4985&#45;82fc&#45;c9b2cd8849e6&#45;&gt;1a8e5883&#45;3ef1&#45;4e46&#45;8620&#45;75fd7dd7cb15 -->\n",
       "<g id=\"edge4\" class=\"edge\">\n",
       "<title>e186877c-b39a-4985-82fc-c9b2cd8849e6-&gt;1a8e5883-3ef1-4e46-8620-75fd7dd7cb15</title>\n",
       "<path fill=\"none\" stroke=\"#b58900\" d=\"M79.04,-340.08C79.04,-340.08 79.04,-229.28 79.04,-229.28\"/>\n",
       "<polygon fill=\"#b58900\" stroke=\"#b58900\" points=\"82.54,-229.28 79.04,-219.28 75.54,-229.28 82.54,-229.28\"/>\n",
       "</g>\n",
       "<!-- AuthorisationRequestHandler_error -->\n",
       "<g id=\"node6\" class=\"node\">\n",
       "<title>AuthorisationRequestHandler_error</title>\n",
       "<polygon fill=\"#dc322f\" stroke=\"black\" points=\"1220.12,-304.55 211.88,-304.55 211.88,-94.05 1226.12,-94.05 1226.12,-298.55 1220.12,-304.55\"/>\n",
       "<polyline fill=\"none\" stroke=\"black\" points=\"1220.12,-304.55 1220.12,-298.55\"/>\n",
       "<polyline fill=\"none\" stroke=\"black\" points=\"1226.12,-298.55 1220.12,-298.55\"/>\n",
       "<text text-anchor=\"start\" x=\"219.88\" y=\"-291.05\" font-family=\"Fira Mono\" font-size=\"10.00\" fill=\"#fdf6e3\">Unexpected error authorising request with Settlement Date: [620] and Network Data [MDHXANP2M] jakarta.ws.rs.ProcessingException: RESTEASY004655: Unable to invoke request: java.net.SocketException: Connection reset</text>\n",
       "<text text-anchor=\"start\" x=\"219.88\" y=\"-279.8\" font-family=\"Fira Mono\" font-size=\"10.00\" fill=\"#fdf6e3\">...</text>\n",
       "<text text-anchor=\"start\" x=\"219.88\" y=\"-268.55\" font-family=\"Fira Mono\" font-size=\"10.00\" fill=\"#fdf6e3\">\tat com.starlingbank.rest.client.InvocationHandlerChain.lambda$invoke$0(InvocationHandlerChain.java:25)</text>\n",
       "<text text-anchor=\"start\" x=\"219.88\" y=\"-257.3\" font-family=\"Fira Mono\" font-size=\"10.00\" fill=\"#fdf6e3\">\tat com.starlingbank.rest.client.ClientErrorInterceptor.invokeNext(ClientErrorInterceptor.java:31)</text>\n",
       "<text text-anchor=\"start\" x=\"219.88\" y=\"-246.05\" font-family=\"Fira Mono\" font-size=\"10.00\" fill=\"#fdf6e3\">\tat com.starlingbank.rest.client.InvocationHandlerChain.lambda$invoke$1(InvocationHandlerChain.java:28)</text>\n",
       "<text text-anchor=\"start\" x=\"219.88\" y=\"-234.8\" font-family=\"Fira Mono\" font-size=\"10.00\" fill=\"#fdf6e3\">\tat com.starlingbank.rest.client.InvocationHandlerChain.invoke(InvocationHandlerChain.java:30)</text>\n",
       "<text text-anchor=\"start\" x=\"219.88\" y=\"-223.55\" font-family=\"Fira Mono\" font-size=\"10.00\" fill=\"#fdf6e3\">...</text>\n",
       "<text text-anchor=\"start\" x=\"219.88\" y=\"-212.3\" font-family=\"Fira Mono\" font-size=\"10.00\" fill=\"#fdf6e3\">\tat com.starlingbank.mastercard.adapter.TokenisationAdapter.tokenise(TokenisationAdapter.java:22)</text>\n",
       "<text text-anchor=\"start\" x=\"219.88\" y=\"-201.05\" font-family=\"Fira Mono\" font-size=\"10.00\" fill=\"#fdf6e3\">\tat com.starlingbank.mastercard.issuer.auth.AuthValidationRequestMapper.createAuthValidationRequest(AuthValidationRequestMapper.java:90)</text>\n",
       "<text text-anchor=\"start\" x=\"219.88\" y=\"-189.8\" font-family=\"Fira Mono\" font-size=\"10.00\" fill=\"#fdf6e3\">\tat com.starlingbank.mastercard.issuer.auth.AuthorisationRequestHandler.handle(AuthorisationRequestHandler.java:58)</text>\n",
       "<text text-anchor=\"start\" x=\"219.88\" y=\"-178.55\" font-family=\"Fira Mono\" font-size=\"10.00\" fill=\"#fdf6e3\">\tat com.starlingbank.mastercard.issuer.IhopIssuerController.auth(IhopIssuerController.java:50)</text>\n",
       "<text text-anchor=\"start\" x=\"219.88\" y=\"-167.3\" font-family=\"Fira Mono\" font-size=\"10.00\" fill=\"#fdf6e3\">\tat com.starlingbank.mastercard.inbound.AuthorisationMessageConsumer.lambda$accept$3(AuthorisationMessageConsumer.java:68)</text>\n",
       "<text text-anchor=\"start\" x=\"219.88\" y=\"-156.05\" font-family=\"Fira Mono\" font-size=\"10.00\" fill=\"#fdf6e3\">\tat com.starlingbank.shared.command.implementation.ThreadPoolCommandBus.lambda$pushDisposableCommand$0(ThreadPoolCommandBus.java:73)</text>\n",
       "<text text-anchor=\"start\" x=\"219.88\" y=\"-144.8\" font-family=\"Fira Mono\" font-size=\"10.00\" fill=\"#fdf6e3\">\tat com.starlingbank.shared.correlation.implementation.CorrelationScopeDefault.lambda$preserve$0(CorrelationScopeDefault.java:150)</text>\n",
       "<text text-anchor=\"start\" x=\"219.88\" y=\"-133.55\" font-family=\"Fira Mono\" font-size=\"10.00\" fill=\"#fdf6e3\">...</text>\n",
       "<text text-anchor=\"start\" x=\"219.88\" y=\"-122.3\" font-family=\"Fira Mono\" font-size=\"10.00\" fill=\"#fdf6e3\">Caused by: java.net.SocketException: Connection reset</text>\n",
       "<text text-anchor=\"start\" x=\"219.88\" y=\"-111.05\" font-family=\"Fira Mono\" font-size=\"10.00\" fill=\"#fdf6e3\">...</text>\n",
       "<text text-anchor=\"start\" x=\"219.88\" y=\"-99.8\" font-family=\"Fira Mono\" font-size=\"10.00\" fill=\"#fdf6e3\">\t... 22 common frames omitted</text>\n",
       "</g>\n",
       "<!-- e186877c&#45;b39a&#45;4985&#45;82fc&#45;c9b2cd8849e6&#45;&gt;AuthorisationRequestHandler_error -->\n",
       "<g id=\"edge3\" class=\"edge\">\n",
       "<title>e186877c-b39a-4985-82fc-c9b2cd8849e6-&gt;AuthorisationRequestHandler_error</title>\n",
       "<path fill=\"none\" stroke=\"#dc322f\" stroke-dasharray=\"5,2\" d=\"M132.96,-340.3C132.96,-312.01 132.96,-261 132.96,-261 132.96,-261 199.87,-261 199.87,-261\"/>\n",
       "<polygon fill=\"#dc322f\" stroke=\"#dc322f\" points=\"199.87,-264.5 209.87,-261 199.87,-257.5 199.87,-264.5\"/>\n",
       "</g>\n",
       "<!-- E -->\n",
       "<g id=\"node5\" class=\"node\">\n",
       "<title>E</title>\n",
       "<ellipse fill=\"#268bd2\" stroke=\"black\" cx=\"106\" cy=\"-29.02\" rx=\"25.02\" ry=\"25.02\"/>\n",
       "<ellipse fill=\"none\" stroke=\"black\" cx=\"106\" cy=\"-29.02\" rx=\"29.02\" ry=\"29.02\"/>\n",
       "<text text-anchor=\"middle\" x=\"106\" y=\"-23.22\" font-family=\"Fira Mono\" font-size=\"14.00\" fill=\"#fdf6e3\">end</text>\n",
       "</g>\n",
       "<!-- 1a8e5883&#45;3ef1&#45;4e46&#45;8620&#45;75fd7dd7cb15&#45;&gt;E -->\n",
       "<g id=\"edge5\" class=\"edge\">\n",
       "<title>1a8e5883-3ef1-4e46-8620-75fd7dd7cb15-&gt;E</title>\n",
       "<path fill=\"none\" stroke=\"#b58900\" d=\"M106,-180.75C106,-180.75 106,-69.86 106,-69.86\"/>\n",
       "<polygon fill=\"#b58900\" stroke=\"#b58900\" points=\"109.5,-69.86 106,-59.86 102.5,-69.86 109.5,-69.86\"/>\n",
       "</g>\n",
       "<!-- S -->\n",
       "<g id=\"node4\" class=\"node\">\n",
       "<title>S</title>\n",
       "<ellipse fill=\"#2aa198\" stroke=\"black\" cx=\"106\" cy=\"-546.51\" rx=\"27.46\" ry=\"27.46\"/>\n",
       "<text text-anchor=\"middle\" x=\"106\" y=\"-540.71\" font-family=\"Fira Mono\" font-size=\"14.00\" fill=\"#fdf6e3\">start</text>\n",
       "</g>\n",
       "<!-- S&#45;&gt;ca317f06&#45;12cb&#45;4ce4&#45;826e&#45;e4819ae5054b -->\n",
       "<g id=\"edge1\" class=\"edge\">\n",
       "<title>S-&gt;ca317f06-12cb-4ce4-826e-e4819ae5054b</title>\n",
       "<path fill=\"none\" stroke=\"#b58900\" d=\"M106,-518.82C106,-518.82 106,-460.88 106,-460.88\"/>\n",
       "<polygon fill=\"#b58900\" stroke=\"#b58900\" points=\"109.5,-460.88 106,-450.88 102.5,-460.88 109.5,-460.88\"/>\n",
       "</g>\n",
       "</g>\n",
       "</svg>"
      ],
      "text/plain": [
       "<IPython.core.display.SVG object>"
      ]
     },
     "metadata": {},
     "output_type": "display_data"
    }
   ],
   "source": [
    "from IPython.display import SVG\n",
    "\n",
    "for correlation_id in correlation_id_list:\n",
    "  display(SVG(f'./output/{correlation_id}.svg'))"
   ]
  },
  {
   "cell_type": "markdown",
   "metadata": {},
   "source": [
    "# Summary generation"
   ]
  },
  {
   "cell_type": "code",
   "execution_count": 5,
   "metadata": {},
   "outputs": [
    {
     "ename": "NameError",
     "evalue": "name 'events' is not defined",
     "output_type": "error",
     "traceback": [
      "\u001b[0;31m---------------------------------------------------------------------------\u001b[0m",
      "\u001b[0;31mNameError\u001b[0m                                 Traceback (most recent call last)",
      "Cell \u001b[0;32mIn[5], line 3\u001b[0m\n\u001b[1;32m      1\u001b[0m \u001b[38;5;28;01mimport\u001b[39;00m\u001b[38;5;250m \u001b[39m\u001b[38;5;21;01mjson\u001b[39;00m\n\u001b[0;32m----> 3\u001b[0m nodes \u001b[38;5;241m=\u001b[39m \u001b[38;5;28msorted\u001b[39m(\u001b[38;5;28mlist\u001b[39m(\u001b[38;5;28mmap\u001b[39m(\u001b[38;5;28;01mlambda\u001b[39;00m x: Node(x)\u001b[38;5;241m.\u001b[39m\u001b[38;5;18m__dict__\u001b[39m, \u001b[43mevents\u001b[49m)), key\u001b[38;5;241m=\u001b[39m\u001b[38;5;28;01mlambda\u001b[39;00m x: x[\u001b[38;5;124m\"\u001b[39m\u001b[38;5;124mtimestamp\u001b[39m\u001b[38;5;124m\"\u001b[39m])\n\u001b[1;32m      5\u001b[0m json_log \u001b[38;5;241m=\u001b[39m json\u001b[38;5;241m.\u001b[39mdumps(nodes, indent\u001b[38;5;241m=\u001b[39m\u001b[38;5;241m2\u001b[39m)\n\u001b[1;32m      7\u001b[0m prompt \u001b[38;5;241m=\u001b[39m \u001b[38;5;124mf\u001b[39m\u001b[38;5;124m\"\"\"\u001b[39m\n\u001b[1;32m      8\u001b[0m \u001b[38;5;124mYou are an expert system for analyzing Java application logs. \u001b[39m\n\u001b[1;32m      9\u001b[0m \u001b[38;5;124mYou will receive an array of JSON log objects, chronologically ordered and potentially grouped by \u001b[39m\u001b[38;5;124m'\u001b[39m\u001b[38;5;124mcorrelation_id\u001b[39m\u001b[38;5;124m'\u001b[39m\u001b[38;5;124m for related requests. \u001b[39m\n\u001b[0;32m   (...)\u001b[0m\n\u001b[1;32m     29\u001b[0m \u001b[38;5;124m```\u001b[39m\n\u001b[1;32m     30\u001b[0m \u001b[38;5;124m\"\"\"\u001b[39m\n",
      "\u001b[0;31mNameError\u001b[0m: name 'events' is not defined"
     ]
    }
   ],
   "source": [
    "\n",
    "import json\n",
    "\n",
    "nodes = sorted(list(map(lambda x: Node(x).__dict__, events)), key=lambda x: x[\"timestamp\"])\n",
    "\n",
    "json_log = json.dumps(nodes, indent=2)\n",
    "\n",
    "prompt = f\"\"\"\n",
    "You are an expert system for analyzing Java application logs. \n",
    "You will receive an array of JSON log objects, chronologically ordered and potentially grouped by 'correlation_id' for related requests. \n",
    "Your task is to process these logs and generate a concise, human-readable summary of the events, focusing on identifying key actions, potential issues, and the overall flow of operations.\n",
    "\n",
    "For each log entry, consider the 'relative_time', 'timestamp', 'level', 'className', and 'message' to understand what happened and where. \n",
    "Prefer 'relative_time' over 'timestamp' for readability when describing the sequence of events.\n",
    "Pay special attention to 'level' (e.g., ERROR, WARN) and the content of 'message', including any stack traces.\n",
    "If a stack trace is present, summarize the error and its context, and include the relevant snippet.\n",
    "\n",
    "Your output should be structured breakdown of events, highlighting the sequence of actions.\n",
    "If any errors are present, you must include as snapshot of the relevant stack trace.\n",
    "If a stacktrace is present, include a brief summary of the error and its context.\n",
    "Highlight any errors, warnings, or unusual behavior. \n",
    "If you identify a clear sequence of events related to a specific 'correlation_id', group them logically in your explanation.\n",
    "\n",
    "DO NOT ask for any additional information or context.\n",
    "\n",
    "Here are the JSON log objects:\n",
    "\n",
    "```json\n",
    "{json_log}\n",
    "```\n",
    "\"\"\"\n",
    "\n",
    "print(prompt)\n"
   ]
  },
  {
   "cell_type": "code",
   "execution_count": null,
   "metadata": {},
   "outputs": [],
   "source": [
    "!{sys.executable} -m pip install ollama --quiet\n",
    "from ollama import generate, GenerateResponse\n",
    "# codegemma:7b-instruct qwen3:14b \n",
    "# response : GenerateResponse = generate(model='qwen3:14b', prompt=prompt)"
   ]
  },
  {
   "cell_type": "markdown",
   "metadata": {},
   "source": [
    "# Summary"
   ]
  },
  {
   "cell_type": "code",
   "execution_count": null,
   "metadata": {},
   "outputs": [],
   "source": [
    "from IPython.display import Markdown\n",
    "\n",
    "# Markdown(response.response)"
   ]
  }
 ],
 "metadata": {
  "colab": {
   "authorship_tag": "ABX9TyN+YI9Y/UjLPBJpo8al97dC",
   "mount_file_id": "1-QYOeTdDAmKWzQ_gQ7-XDXTRaRhzCse5",
   "provenance": []
  },
  "kernelspec": {
   "display_name": ".venv",
   "language": "python",
   "name": "python3"
  },
  "language_info": {
   "codemirror_mode": {
    "name": "ipython",
    "version": 3
   },
   "file_extension": ".py",
   "mimetype": "text/x-python",
   "name": "python",
   "nbconvert_exporter": "python",
   "pygments_lexer": "ipython3",
   "version": "3.9.6"
  }
 },
 "nbformat": 4,
 "nbformat_minor": 0
}
